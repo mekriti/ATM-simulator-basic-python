{
  "nbformat": 4,
  "nbformat_minor": 0,
  "metadata": {
    "kernelspec": {
      "name": "python3",
      "display_name": "Python 3"
    },
    "language_info": {
      "codemirror_mode": {
        "name": "ipython",
        "version": 3
      },
      "file_extension": ".py",
      "mimetype": "text/x-python",
      "name": "python",
      "nbconvert_exporter": "python",
      "pygments_lexer": "ipython3",
      "version": "3.6.9"
    },
    "colab": {
      "name": "Copy of LSTM.ipynb",
      "provenance": [],
      "collapsed_sections": [],
      "include_colab_link": true
    },
    "accelerator": "GPU"
  },
  "cells": [
    {
      "cell_type": "markdown",
      "metadata": {
        "id": "view-in-github",
        "colab_type": "text"
      },
      "source": [
        "<a href=\"https://colab.research.google.com/github/mekriti/ATM-simulator-basic-python/blob/master/Copy_of_LSTM%20ODSC%20Delhi%20Nov%2010%2C2019.ipynb\" target=\"_parent\"><img src=\"https://colab.research.google.com/assets/colab-badge.svg\" alt=\"Open In Colab\"/></a>"
      ]
    },
    {
      "cell_type": "code",
      "metadata": {
        "id": "qdJ-ZLkNYfko",
        "colab_type": "code",
        "colab": {
          "base_uri": "https://localhost:8080/",
          "height": 34
        },
        "outputId": "3dedba2b-b8cd-4fcc-ff27-90762120831d"
      },
      "source": [
        "from __future__ import absolute_import, division, print_function, unicode_literals\n",
        "\n",
        "try:\n",
        "  # %tensorflow_version only exists in Colab.\n",
        "  %tensorflow_version 2.x\n",
        "except Exception:\n",
        "  pass\n",
        "\n",
        "\n",
        "import tensorflow as tf\n",
        "\n",
        "import matplotlib as mpl\n",
        "import matplotlib.pyplot as plt\n",
        "import numpy as np\n",
        "import os\n",
        "import pandas as pd\n",
        "import seaborn as sns\n",
        "\n",
        "\n",
        "tf.random.set_seed(0)\n",
        "tf.__version__"
      ],
      "execution_count": 2,
      "outputs": [
        {
          "output_type": "execute_result",
          "data": {
            "text/plain": [
              "'2.0.0'"
            ]
          },
          "metadata": {
            "tags": []
          },
          "execution_count": 2
        }
      ]
    },
    {
      "cell_type": "markdown",
      "metadata": {
        "id": "c90tIt1nYfkr",
        "colab_type": "text"
      },
      "source": [
        "### TimeSeries form AIOPS data competition "
      ]
    },
    {
      "cell_type": "code",
      "metadata": {
        "id": "ziakVRybYfks",
        "colab_type": "code",
        "colab": {
          "base_uri": "https://localhost:8080/",
          "height": 408
        },
        "outputId": "97dc1a7f-0889-4014-b347-a77e175e7bcc"
      },
      "source": [
        "!wget https://schopra-2018.s3.ap-south-1.amazonaws.com/train.csv\n",
        "!wget https://schopra-2018.s3.ap-south-1.amazonaws.com/test.csv\n",
        "!ls"
      ],
      "execution_count": 3,
      "outputs": [
        {
          "output_type": "stream",
          "text": [
            "--2019-11-10 07:48:03--  https://schopra-2018.s3.ap-south-1.amazonaws.com/train.csv\n",
            "Resolving schopra-2018.s3.ap-south-1.amazonaws.com (schopra-2018.s3.ap-south-1.amazonaws.com)... 52.219.64.99\n",
            "Connecting to schopra-2018.s3.ap-south-1.amazonaws.com (schopra-2018.s3.ap-south-1.amazonaws.com)|52.219.64.99|:443... connected.\n",
            "HTTP request sent, awaiting response... 200 OK\n",
            "Length: 1750040 (1.7M) [text/csv]\n",
            "Saving to: ‘train.csv’\n",
            "\n",
            "train.csv           100%[===================>]   1.67M  1.18MB/s    in 1.4s    \n",
            "\n",
            "2019-11-10 07:48:05 (1.18 MB/s) - ‘train.csv’ saved [1750040/1750040]\n",
            "\n",
            "--2019-11-10 07:48:09--  https://schopra-2018.s3.ap-south-1.amazonaws.com/test.csv\n",
            "Resolving schopra-2018.s3.ap-south-1.amazonaws.com (schopra-2018.s3.ap-south-1.amazonaws.com)... 52.219.64.103\n",
            "Connecting to schopra-2018.s3.ap-south-1.amazonaws.com (schopra-2018.s3.ap-south-1.amazonaws.com)|52.219.64.103|:443... connected.\n",
            "HTTP request sent, awaiting response... 200 OK\n",
            "Length: 1163401 (1.1M) [text/csv]\n",
            "Saving to: ‘test.csv’\n",
            "\n",
            "test.csv            100%[===================>]   1.11M   815KB/s    in 1.4s    \n",
            "\n",
            "2019-11-10 07:48:11 (815 KB/s) - ‘test.csv’ saved [1163401/1163401]\n",
            "\n",
            "sample_data  test.csv  train.csv\n"
          ],
          "name": "stdout"
        }
      ]
    },
    {
      "cell_type": "code",
      "metadata": {
        "id": "AiledtafYfku",
        "colab_type": "code",
        "colab": {
          "base_uri": "https://localhost:8080/",
          "height": 153
        },
        "outputId": "91df2475-4218-4844-ef2d-123f16c6d6f4"
      },
      "source": [
        "train_csv_path = './train.csv'\n",
        "test_csv_path = './test.csv'\n",
        "\n",
        "df_train = pd.read_csv(train_csv_path)\n",
        "df_train.info()"
      ],
      "execution_count": 4,
      "outputs": [
        {
          "output_type": "stream",
          "text": [
            "<class 'pandas.core.frame.DataFrame'>\n",
            "RangeIndex: 88577 entries, 0 to 88576\n",
            "Data columns (total 3 columns):\n",
            "data         88577 non-null float64\n",
            "timestamp    88577 non-null int64\n",
            "label        88577 non-null int64\n",
            "dtypes: float64(1), int64(2)\n",
            "memory usage: 2.0 MB\n"
          ],
          "name": "stdout"
        }
      ]
    },
    {
      "cell_type": "code",
      "metadata": {
        "id": "hP9Op8HFYfkx",
        "colab_type": "code",
        "colab": {
          "base_uri": "https://localhost:8080/",
          "height": 153
        },
        "outputId": "8ecb35d0-08e9-43d4-8dc2-6157bdbaa5fd"
      },
      "source": [
        "df_test = pd.read_csv(test_csv_path)\n",
        "df_test.info()"
      ],
      "execution_count": 5,
      "outputs": [
        {
          "output_type": "stream",
          "text": [
            "<class 'pandas.core.frame.DataFrame'>\n",
            "RangeIndex: 59052 entries, 0 to 59051\n",
            "Data columns (total 3 columns):\n",
            "data         59052 non-null float64\n",
            "timestamp    59052 non-null int64\n",
            "label        59052 non-null int64\n",
            "dtypes: float64(1), int64(2)\n",
            "memory usage: 1.4 MB\n"
          ],
          "name": "stdout"
        }
      ]
    },
    {
      "cell_type": "code",
      "metadata": {
        "id": "xEeC41vbYfkz",
        "colab_type": "code",
        "colab": {}
      },
      "source": [
        "def plot_time_series(df):\n",
        "    plot_data = df['data']\n",
        "    plot_data.index = df['timestamp']\n",
        "    plot_data.plot(subplots=True,)"
      ],
      "execution_count": 0,
      "outputs": []
    },
    {
      "cell_type": "markdown",
      "metadata": {
        "id": "SuGX1IX5Yfk1",
        "colab_type": "text"
      },
      "source": [
        "### Visualize dataset"
      ]
    },
    {
      "cell_type": "code",
      "metadata": {
        "id": "WJuMY7xKYfk2",
        "colab_type": "code",
        "colab": {
          "base_uri": "https://localhost:8080/",
          "height": 272
        },
        "outputId": "2a45bb03-2358-462b-82a0-51a5d74d7a0f"
      },
      "source": [
        "plot_time_series(df_train)"
      ],
      "execution_count": 7,
      "outputs": [
        {
          "output_type": "display_data",
          "data": {
            "image/png": "[encoded data removed]",
            "text/plain": [
              "<Figure size 432x288 with 1 Axes>"
            ]
          },
          "metadata": {
            "tags": []
          }
        }
      ]
    },
    {
      "cell_type": "code",
      "metadata": {
        "id": "m_uOir5_Yfk4",
        "colab_type": "code",
        "colab": {
          "base_uri": "https://localhost:8080/",
          "height": 274
        },
        "outputId": "aeee5930-182a-4624-97c7-68e94e49fcfb"
      },
      "source": [
        "plot_time_series(df_test)"
      ],
      "execution_count": 8,
      "outputs": [
        {
          "output_type": "display_data",
          "data": {
            "image/png": "[encoded data removed]",
            "text/plain": [
              "<Figure size 432x288 with 1 Axes>"
            ]
          },
          "metadata": {
            "tags": []
          }
        }
      ]
    },
    {
      "cell_type": "code",
      "metadata": {
        "id": "3BacM2XwYfk6",
        "colab_type": "code",
        "colab": {
          "base_uri": "https://localhost:8080/",
          "height": 51
        },
        "outputId": "61bb0f3a-79c2-4ccb-ad03-0415a7e9fc12"
      },
      "source": [
        "train_mean = df_train['data'].mean()\n",
        "train_std = df_train['data'].std()\n",
        "\n",
        "print(\"Mean is {}\".format(train_mean))\n",
        "print(\"Std is {}\".format(train_std))"
      ],
      "execution_count": 9,
      "outputs": [
        {
          "output_type": "stream",
          "text": [
            "Mean is 1657.9532271357125\n",
            "Std is 689.900535321167\n"
          ],
          "name": "stdout"
        }
      ]
    },
    {
      "cell_type": "code",
      "metadata": {
        "id": "sDDcoYCcYfk8",
        "colab_type": "code",
        "colab": {}
      },
      "source": [
        "def get_dataset(csv_path, mean, std ,window_size = 16, prediction_length = 1, batch_size = 32 ,repeat = None):\n",
        "    \n",
        "    dataset = tf.data.experimental.make_csv_dataset(csv_path,batch_size=1,shuffle=False,num_epochs=1)\n",
        "    \n",
        "    dataset = dataset.unbatch().map(lambda x : (x['data']-mean)/std)\n",
        "    \n",
        "    x_dataset = dataset.window(window_size, shift=1, stride=1, drop_remainder=True).flat_map(lambda x : x.batch(1).batch(window_size))\n",
        "\n",
        "    y_dataset = dataset.skip(window_size).window(prediction_length, shift=1, stride=1, drop_remainder=True).flat_map(lambda x : x.batch(prediction_length))\n",
        "\n",
        "    train_dataset = tf.data.Dataset.zip((x_dataset,y_dataset)).shuffle(1000).batch(batch_size).repeat(repeat).prefetch(500)\n",
        "    \n",
        "    return train_dataset\n"
      ],
      "execution_count": 0,
      "outputs": []
    },
    {
      "cell_type": "code",
      "metadata": {
        "id": "wFZcKHdeYfk-",
        "colab_type": "code",
        "colab": {
          "base_uri": "https://localhost:8080/",
          "height": 88
        },
        "outputId": "d85ad8f2-ff82-403b-9a4b-27d54e225af7"
      },
      "source": [
        "train_dataset = get_dataset(train_csv_path, train_mean,train_std, window_size = 16, prediction_length = 1, batch_size = 32, repeat = 1)\n",
        "\n",
        "test_dataset = get_dataset(test_csv_path, train_mean, train_std, window_size = 16, prediction_length = 1, batch_size = 256 ,repeat = 1)\n",
        "\n",
        "# (32, 16, 1)  (32, 1)"
      ],
      "execution_count": 11,
      "outputs": [
        {
          "output_type": "stream",
          "text": [
            "WARNING:tensorflow:From /tensorflow-2.0.0/python3.6/tensorflow_core/python/data/experimental/ops/readers.py:521: parallel_interleave (from tensorflow.python.data.experimental.ops.interleave_ops) is deprecated and will be removed in a future version.\n",
            "Instructions for updating:\n",
            "Use `tf.data.Dataset.interleave(map_func, cycle_length, block_length, num_parallel_calls=tf.data.experimental.AUTOTUNE)` instead. If sloppy execution is desired, use `tf.data.Options.experimental_determinstic`.\n"
          ],
          "name": "stdout"
        }
      ]
    },
    {
      "cell_type": "code",
      "metadata": {
        "id": "CAYCOgM7YflA",
        "colab_type": "code",
        "colab": {}
      },
      "source": [
        "class RNN(tf.keras.Model):\n",
        "    def __init__(self):\n",
        "        super(RNN,self).__init__()\n",
        "        self.lstm_layer1 = tf.keras.layers.LSTM(units = 32, activation='tanh',return_sequences=True, dropout=0.2)\n",
        "        self.lstm_layer2 = tf.keras.layers.LSTM(units = 8, activation='tanh',return_sequences=False, dropout=0.2)\n",
        "        self.dense = tf.keras.layers.Dense(1)\n",
        "        self.optimizer = tf.keras.optimizers.Adam(learning_rate=3e-4)\n",
        "        self.mse = tf.keras.losses.MeanSquaredError()\n",
        "        \n",
        "    \n",
        "    def call(self, x):\n",
        "#         out1 = self.lstm_layer1(x)             # 32x16x8 \n",
        "#         print(out1.shape)\n",
        "        out2 = self.lstm_layer2(x)             # 32x8 (batch_size x squence_length x hidden_units) (sequence_lenngth got collapsed bcz return_sequences=False)\n",
        "#         print(out2.shape)\n",
        "        out3 = self.dense(out2)                # 32x1 \n",
        "        return out3\n",
        "    \n",
        "    def loss(self,x,y):\n",
        "        prediction  = self.call(x)\n",
        "        return self.mse(prediction,y)\n",
        "    \n",
        "    def train_step(self, x, y):\n",
        "        \n",
        "        with tf.GradientTape() as tape:\n",
        "            prediction  = self.call(x)\n",
        "            loss = self.mse(prediction,y)\n",
        "        \n",
        "        dloss_dparams = tape.gradient(loss,self.trainable_variables)\n",
        "        self.optimizer.apply_gradients(zip(dloss_dparams,self.trainable_variables))\n",
        "        \n",
        "        return loss"
      ],
      "execution_count": 0,
      "outputs": []
    },
    {
      "cell_type": "code",
      "metadata": {
        "id": "2-FmPyWXYflC",
        "colab_type": "code",
        "colab": {}
      },
      "source": [
        "# rnn.train_step(batch[0],batch[1]).numpy()"
      ],
      "execution_count": 0,
      "outputs": []
    },
    {
      "cell_type": "code",
      "metadata": {
        "id": "EsV1NwSIYflE",
        "colab_type": "code",
        "colab": {}
      },
      "source": [
        "rnn = RNN()"
      ],
      "execution_count": 0,
      "outputs": []
    },
    {
      "cell_type": "code",
      "metadata": {
        "id": "mnYJjmxDYflG",
        "colab_type": "code",
        "colab": {
          "base_uri": "https://localhost:8080/",
          "height": 119
        },
        "outputId": "2a75fbaf-6487-4032-c982-99abf3d919c7"
      },
      "source": [
        "num_epochs = 3\n",
        "train_loss = tf.keras.metrics.Mean(name='train_loss')\n",
        "test_loss = tf.keras.metrics.Mean(name='test_loss')\n",
        "\n",
        "for epoch in range(1,num_epochs+1):\n",
        "    \n",
        "    #Before each epoch reset states\n",
        "    train_loss.reset_states()\n",
        "    test_loss.reset_states()\n",
        "    \n",
        "    print(\"######  Epoch {} started ######\".format(epoch))\n",
        "    for idx,batch in enumerate(train_dataset):\n",
        "        loss = rnn.train_step(batch[0],batch[1])\n",
        "        train_loss(loss)\n",
        "    \n",
        "    for idx,batch in enumerate(test_dataset):\n",
        "        loss = rnn.loss(batch[0], batch[1])\n",
        "        test_loss(loss)\n",
        "    \n",
        "    print(\"Training loss = {} \\nTest loss = {}\".format(train_loss.result(),test_loss.result()))\n",
        "    print(\"######  Epoch {} finished  ######\\n\".format(epoch))\n",
        "    \n"
      ],
      "execution_count": 0,
      "outputs": [
        {
          "output_type": "stream",
          "text": [
            "######  Epoch 1 started ######\n",
            "Training loss = 0.10320084542036057 \n",
            "Test loss = 0.014760428108274937\n",
            "######  Epoch 1 finished  ######\n",
            "\n",
            "######  Epoch 2 started ######\n"
          ],
          "name": "stdout"
        }
      ]
    },
    {
      "cell_type": "code",
      "metadata": {
        "id": "J04GDoU0YflI",
        "colab_type": "code",
        "colab": {}
      },
      "source": [
        "def create_time_steps(length):\n",
        "    time_steps = []\n",
        "    for i in range(-length, 0, 1):\n",
        "        time_steps.append(i)\n",
        "    return time_steps\n",
        "\n",
        "\n",
        "def show_plot(plot_data, delta, title):\n",
        "    labels = ['History', 'True Future', 'Model Prediction']\n",
        "    marker = ['.-', 'rx', 'go']\n",
        "    time_steps = create_time_steps(plot_data[0].shape[0])\n",
        "    if delta:\n",
        "        future = delta\n",
        "    else:\n",
        "        future = 0\n",
        "\n",
        "    plt.title(title)\n",
        "    for i, x in enumerate(plot_data):\n",
        "        if i:\n",
        "            plt.plot(future, plot_data[i], marker[i], markersize=10,label=labels[i])\n",
        "        else:\n",
        "            plt.plot(time_steps, plot_data[i].flatten(), marker[i], label=labels[i])\n",
        "            \n",
        "    plt.legend()\n",
        "    plt.xlim([time_steps[0], (future+5)*2])\n",
        "    plt.xlabel('Time-Step')\n",
        "    return plt"
      ],
      "execution_count": 0,
      "outputs": []
    },
    {
      "cell_type": "code",
      "metadata": {
        "id": "RYLWPvAZYflK",
        "colab_type": "code",
        "colab": {}
      },
      "source": [
        "for data in test_dataset.unbatch().take(3):\n",
        "    print(data[0].shape)\n",
        "    \n",
        "    rnn_input = tf.reshape(data[0],(-1,16,1))\n",
        "    rnn_prediction = tf.reshape(rnn(rnn_input),(1,)).numpy()\n",
        "    plot = show_plot([data[0].numpy(),data[1].numpy(),rnn_prediction],0,'LSTM')\n",
        "    plot.show()"
      ],
      "execution_count": 0,
      "outputs": []
    },
    {
      "cell_type": "code",
      "metadata": {
        "id": "eKHqu4W6YflL",
        "colab_type": "code",
        "colab": {}
      },
      "source": [
        ""
      ],
      "execution_count": 0,
      "outputs": []
    },
    {
      "cell_type": "code",
      "metadata": {
        "id": "EaKCYK8SYflN",
        "colab_type": "code",
        "colab": {}
      },
      "source": [
        ""
      ],
      "execution_count": 0,
      "outputs": []
    },
    {
      "cell_type": "code",
      "metadata": {
        "id": "ZGpqC6ehYflP",
        "colab_type": "code",
        "colab": {}
      },
      "source": [
        ""
      ],
      "execution_count": 0,
      "outputs": []
    },
    {
      "cell_type": "code",
      "metadata": {
        "id": "L2sidlHJYflR",
        "colab_type": "code",
        "colab": {}
      },
      "source": [
        ""
      ],
      "execution_count": 0,
      "outputs": []
    },
    {
      "cell_type": "code",
      "metadata": {
        "id": "8_IUR1lRYflT",
        "colab_type": "code",
        "colab": {}
      },
      "source": [
        ""
      ],
      "execution_count": 0,
      "outputs": []
    },
    {
      "cell_type": "markdown",
      "metadata": {
        "id": "C24cK4goYflX",
        "colab_type": "text"
      },
      "source": [
        "## tf.data module\n",
        "* very easy to build input pipelines with high throughput\n",
        "* can read data directly from disk\n",
        "* can read multiple files in parrallel\n",
        "* transform data in parallel\n",
        "* is python iterable. iterate over it using python for loops\n",
        "* dataset is a collection of elemets where an element can a tensor or a dataset itself\n"
      ]
    },
    {
      "cell_type": "code",
      "metadata": {
        "id": "TMFDRCBtYflY",
        "colab_type": "code",
        "colab": {}
      },
      "source": [
        "# dataset of consecutive numbers \n",
        "# each element is a rank 0 tensor (scalar)\n",
        "seq_dataset = tf.data.Dataset.range(50)"
      ],
      "execution_count": 0,
      "outputs": []
    },
    {
      "cell_type": "code",
      "metadata": {
        "id": "31YdZFBAYflb",
        "colab_type": "code",
        "colab": {}
      },
      "source": [
        "for x in seq_dataset:\n",
        "    print(x.shape)\n",
        "    print(x)\n",
        "    break"
      ],
      "execution_count": 0,
      "outputs": []
    },
    {
      "cell_type": "code",
      "metadata": {
        "id": "Op-3B2HdYflc",
        "colab_type": "code",
        "colab": {}
      },
      "source": [
        "def print_dataset(dataset,take=None):\n",
        "    if take is None:\n",
        "        for x in dataset:\n",
        "            print(x.numpy())\n",
        "    else:\n",
        "        for x in dataset.take(take):\n",
        "            print(x.numpy())"
      ],
      "execution_count": 0,
      "outputs": []
    },
    {
      "cell_type": "code",
      "metadata": {
        "id": "XARTE9sJYfle",
        "colab_type": "code",
        "colab": {}
      },
      "source": [
        "print_dataset(seq_dataset)"
      ],
      "execution_count": 0,
      "outputs": []
    },
    {
      "cell_type": "code",
      "metadata": {
        "id": "2Pti6UnxYflf",
        "colab_type": "code",
        "colab": {}
      },
      "source": [
        "# .batch()\n",
        "# increase the rank by 1\n",
        "# add dimension on the left equal to batch_size\n",
        "seq_dataset_batched = seq_dataset.batch(5,drop_remainder=True)\n",
        "\n",
        "print_dataset(seq_dataset_batched,take = 5)\n"
      ],
      "execution_count": 0,
      "outputs": []
    },
    {
      "cell_type": "code",
      "metadata": {
        "id": "FEST74oyYflh",
        "colab_type": "code",
        "colab": {}
      },
      "source": [
        "# .unbatch()\n",
        "# decrease the rank by 1\n",
        "# it will split the tensor of a dataset into multiple tensors for all elements\n",
        "# a tensor (A,B,C) will give A tensors of (B,C)  \n",
        "print_dataset(seq_dataset_batched.unbatch(),take = 10)"
      ],
      "execution_count": 0,
      "outputs": []
    },
    {
      "cell_type": "code",
      "metadata": {
        "id": "Pqk1fkG6Yflj",
        "colab_type": "code",
        "colab": {}
      },
      "source": [
        "# .repeat()\n",
        "# for multiple iterations over dataset\n",
        "print_dataset(seq_dataset.repeat(2))\n",
        "    "
      ],
      "execution_count": 0,
      "outputs": []
    },
    {
      "cell_type": "code",
      "metadata": {
        "id": "_n2vtNV1Yflk",
        "colab_type": "code",
        "colab": {}
      },
      "source": [
        "# .map()\n",
        "# transform each element of a dataset\n",
        "seq_dataset_mapped = seq_dataset.map(lambda x : x*x, num_parallel_calls=tf.data.experimental.AUTOTUNE)\n",
        "\n",
        "print_dataset(seq_dataset_mapped,take = 5)\n"
      ],
      "execution_count": 0,
      "outputs": []
    },
    {
      "cell_type": "code",
      "metadata": {
        "id": "9WRG_KbZYflm",
        "colab_type": "code",
        "colab": {}
      },
      "source": [
        "# .window()\n",
        "# .flatmap()\n",
        "seq_dataset_window = seq_dataset.window(size=5,shift=1,stride=1,drop_remainder=True)\n",
        "\n",
        "for idx,x in enumerate(seq_dataset_window.take(5)):\n",
        "    print(idx,x)\n",
        "# .flat_map(lambda x: x)\n",
        "\n",
        "print(\"\\n\\n\\n\")"
      ],
      "execution_count": 0,
      "outputs": []
    },
    {
      "cell_type": "code",
      "metadata": {
        "id": "qH1MlNVgYfln",
        "colab_type": "code",
        "colab": {}
      },
      "source": [
        "#.window()\n",
        "# combine input elements into a dataset of windows\n",
        "seq_dataset_window = seq_dataset.window(size=5, shift=1, stride=1, drop_remainder=True)\n",
        "for dataset in seq_dataset_window.take(5):\n",
        "    print(dataset)"
      ],
      "execution_count": 0,
      "outputs": []
    },
    {
      "cell_type": "code",
      "metadata": {
        "id": "OAmTnnWDYflp",
        "colab_type": "code",
        "colab": {}
      },
      "source": [
        "#.flat_map\n",
        "print_dataset(seq_dataset_window.flat_map(lambda x : x),take=10)"
      ],
      "execution_count": 0,
      "outputs": []
    },
    {
      "cell_type": "code",
      "metadata": {
        "id": "Hh2WCpx4Yflr",
        "colab_type": "code",
        "colab": {}
      },
      "source": [
        "# [1 2 3 4 5 6 7 8 9 10 .....]\n",
        "\n",
        "# [1 2 3 4 5]\n",
        "# [2 3 4 5 6]\n",
        "# [3 4 5 6 7]\n",
        "# [4 5 6 7 8]\n",
        "\n",
        "\n",
        "seq_dataset_window_series = seq_dataset.window(size=5, shift=1, stride=1, drop_remainder=True).flat_map(lambda x : x.batch(5))\n",
        "print_dataset(seq_dataset_window_series,take=5)\n",
        "# seq_dataset.window(size=5, shift=1, stride=1, drop_remainder=True).flatmap(lambda x : x).batch(5)\n"
      ],
      "execution_count": 0,
      "outputs": []
    },
    {
      "cell_type": "code",
      "metadata": {
        "id": "y2-0hwgXYflt",
        "colab_type": "code",
        "colab": {}
      },
      "source": [
        "# [0 1 2 3 4]  5\n",
        "# [1 2 3 4 5]  6\n",
        "# [2 3 4 5 6]  7\n",
        "# [3 4 5 6 7]  8\n",
        "\n",
        "seq_dataset_label = seq_dataset.skip(5)\n",
        "print_dataset(seq_dataset_label,take = 5)\n",
        "print(\"\\n\\n\\n\")\n",
        "seq_dataset_zipped = tf.data.Dataset.zip((seq_dataset_window_series,seq_dataset_label))\n",
        "for x in seq_dataset_zipped.take(5):\n",
        "    print(x[0].numpy(),x[1].numpy())"
      ],
      "execution_count": 0,
      "outputs": []
    },
    {
      "cell_type": "code",
      "metadata": {
        "id": "qRU7knmEYflu",
        "colab_type": "code",
        "colab": {}
      },
      "source": [
        "# [0 1 2 3 4]  [5,6]\n",
        "# [1 2 3 4 5]  [6,7]\n",
        "# [2 3 4 5 6]  [7,8]\n",
        "# [3 4 5 6 7]  [8,9]\n",
        "\n",
        "seq_dataset_target = seq_dataset.skip(5).window(size=2,shift=1,stride=1).flat_map(lambda x : x.batch(2))\n",
        "print_dataset(seq_dataset_target,take = 5)\n",
        "\n",
        "seq_dataset_zipped = tf.data.Dataset.zip((seq_dataset_window_series,seq_dataset_label))\n",
        "\n",
        "for x in seq_dataset_zipped.take(5):\n",
        "    print(x[0].numpy(),x[1].numpy())"
      ],
      "execution_count": 0,
      "outputs": []
    },
    {
      "cell_type": "markdown",
      "metadata": {
        "id": "OxUIjgpkYflz",
        "colab_type": "text"
      },
      "source": [
        "## 2) Gradient "
      ]
    },
    {
      "cell_type": "code",
      "metadata": {
        "id": "J0wxATBkYfl0",
        "colab_type": "code",
        "colab": {}
      },
      "source": [
        "x = tf.constant(2.0)\n",
        "y = tf.Variable(4.0)\n",
        "\n",
        "with tf.GradientTape() as tape:\n",
        "    tape.watch(x)\n",
        "    s = x + y\n",
        "    m = x*y\n",
        "    ts = s + m\n",
        "    \n",
        "\n",
        "print(tape.gradient(ts,x).numpy()) ## 1 + y\n"
      ],
      "execution_count": 0,
      "outputs": []
    },
    {
      "cell_type": "code",
      "metadata": {
        "id": "8Fope-McYfl2",
        "colab_type": "code",
        "colab": {}
      },
      "source": [
        "print(tape.gradient(ts,y).numpy()) ## 1 + x"
      ],
      "execution_count": 0,
      "outputs": []
    },
    {
      "cell_type": "code",
      "metadata": {
        "id": "kle2rU9xYfl5",
        "colab_type": "code",
        "colab": {}
      },
      "source": [
        "\n",
        "x = tf.constant(2.0)\n",
        "y = tf.Variable(4.0)\n",
        "\n",
        "\n",
        "with tf.GradientTape(persistent= True) as tape:\n",
        "    tape.watch(x)\n",
        "    s = x + y\n",
        "    m = x*y\n",
        "    ts = s + m\n",
        "    \n",
        "\n",
        "print(tape.gradient(ts,x).numpy()) ## 1 + y\n",
        "print(tape.gradient(ts,y).numpy()) ## 1 + x"
      ],
      "execution_count": 0,
      "outputs": []
    },
    {
      "cell_type": "code",
      "metadata": {
        "id": "4GcyiV5sYfl7",
        "colab_type": "code",
        "colab": {}
      },
      "source": [
        "with tf.GradientTape(persistent=True) as innerTape:\n",
        "    m = y * y * y\n",
        "    dm_dy = innerTape.gradient(m,y)\n",
        "    d2m_dy2 = innerTape.gradient(dm_dy,y)\n"
      ],
      "execution_count": 0,
      "outputs": []
    },
    {
      "cell_type": "code",
      "metadata": {
        "id": "bpN4ftlSYfl9",
        "colab_type": "code",
        "colab": {}
      },
      "source": [
        "with tf.GradientTape() as outerTape:\n",
        "    with tf.GradientTape() as innerTape:\n",
        "        m = y * y * y\n",
        "    dm_dy = innerTape.gradient(m,y)\n",
        "\n",
        "d2m_dy2 = outerTape.gradient(dm_dy,y)\n",
        "print(d2m_dy2.numpy()) # 6 * y = 24"
      ],
      "execution_count": 0,
      "outputs": []
    }
  ]
}